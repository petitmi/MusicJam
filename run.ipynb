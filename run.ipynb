{
 "cells": [
  {
   "cell_type": "code",
   "execution_count": 4,
   "metadata": {},
   "outputs": [
    {
     "name": "stdout",
     "output_type": "stream",
     "text": [
      "\u001b[1mInput:\u001b[0m \u001b[0:35m[['c', 'e', 'a'], '1/2', 66]\u001b[0m\n",
      "\u001b[1mrhythm beats\u001b[0m: start generating...0.00032s...finished generating\n",
      " \u001b[93m['1101', '1101', '1111', '1', '0101', '1', '1', '1111', '1111', '01', '1101', '11', '01', '1111', '01', '1']\u001b[0m\n",
      "\u001b[1mchords progression:\u001b[0m start generating...0.03677s...finished generating\n",
      " \u001b[92m['ii', 'V', 'I9', 'vi']\u001b[0m\n"
     ]
    }
   ],
   "source": [
    "from music_generator import MusicGenerator\n",
    "n= [['c','e','a'],'1/2',66]\n",
    "test = MusicGenerator(n,num_bars = 4,bpm=66)"
   ]
  },
  {
   "cell_type": "code",
   "execution_count": 5,
   "metadata": {},
   "outputs": [
    {
     "name": "stdout",
     "output_type": "stream",
     "text": [
      "\u001b[1mchord:\u001b[0m start generating...0.06746s...finished generating\n",
      "\u001b[94m [<music21.chord.Chord D4 F4 A4>, <music21.chord.Chord D4 F4 A4>, <music21.chord.Chord G4 B4 D5>, <music21.chord.Chord G4 B4 D5>, <music21.chord.Chord C4 E4 G4 B4 D5>, <music21.chord.Chord C4 E4 G4 B4 D5>, <music21.chord.Chord A4 C5 E5>, <music21.chord.Chord A4 C5 E5>]\u001b[0m \n",
      "\u001b[1mmelody:\u001b[0m start generating...0.02132s...finished generating\n",
      "\u001b[94m [<music21.note.Note C>, <music21.note.Note E>, <music21.note.Rest 16th>, <music21.note.Note A>, <music21.note.Note F>, <music21.note.Note A>, <music21.note.Rest 16th>, <music21.note.Note A>, <music21.note.Note A>, <music21.note.Note A>, <music21.note.Note D>, <music21.note.Note F>, <music21.note.Note A>, <music21.note.Rest 16th>, <music21.note.Note D>, <music21.note.Rest 16th>, <music21.note.Note D>, <music21.note.Note D>, <music21.note.Note B>, <music21.note.Note G>, <music21.note.Note D>, <music21.note.Note D>, <music21.note.Note B>, <music21.note.Note B>, <music21.note.Note B>, <music21.note.Note B>, <music21.note.Note D>, <music21.note.Rest eighth>, <music21.note.Note E>, <music21.note.Note E>, <music21.note.Note C>, <music21.note.Rest 16th>, <music21.note.Note D>, <music21.note.Note B>, <music21.note.Note B>, <music21.note.Rest eighth>, <music21.note.Note E>, <music21.note.Note A>, <music21.note.Note C>, <music21.note.Note C>, <music21.note.Note C>, <music21.note.Rest eighth>, <music21.note.Note C>, <music21.note.Note E>]\u001b[0m \n",
      "\u001b[1mmixtion\u001b[0m: melody and chords start mixing...0.00223s...finished mixing\n",
      "\u001b[1moutputs:\u001b[0m start writing...0.24174s...\u001b[1mmidi\u001b[0m finished writing...0.24318s...\u001b[1mpng \u001b[0m finished writing \n"
     ]
    },
    {
     "data": {
      "text/plain": [
       "<music21.stream.Score 0x7fadb0bc19d0>"
      ]
     },
     "execution_count": 5,
     "metadata": {},
     "output_type": "execute_result"
    }
   ],
   "source": [
    "test.mix_melody_chords()"
   ]
  },
  {
   "cell_type": "code",
   "execution_count": null,
   "metadata": {},
   "outputs": [],
   "source": []
  }
 ],
 "metadata": {
  "kernelspec": {
   "display_name": "Python 3.9.12 ('base')",
   "language": "python",
   "name": "python3"
  },
  "language_info": {
   "codemirror_mode": {
    "name": "ipython",
    "version": 3
   },
   "file_extension": ".py",
   "mimetype": "text/x-python",
   "name": "python",
   "nbconvert_exporter": "python",
   "pygments_lexer": "ipython3",
   "version": "3.9.12"
  },
  "orig_nbformat": 4,
  "vscode": {
   "interpreter": {
    "hash": "bf8deac87c05a71a0573c06e4f81cc468d2ce4c41fc413c538c1ad834d4a6dbc"
   }
  }
 },
 "nbformat": 4,
 "nbformat_minor": 2
}
